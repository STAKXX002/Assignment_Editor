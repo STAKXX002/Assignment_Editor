{
  "nbformat": 4,
  "nbformat_minor": 0,
  "metadata": {
    "colab": {
      "provenance": []
    },
    "kernelspec": {
      "name": "python3",
      "display_name": "Python 3"
    },
    "language_info": {
      "name": "python"
    }
  },
  "cells": [
    {
      "cell_type": "code",
      "execution_count": null,
      "metadata": {
        "id": "D0YAQn6Q32Af"
      },
      "outputs": [],
      "source": [
        "# Install dependencies\n",
        "!pip install pytesseract pdf2image opencv-python-headless\n",
        "\n",
        "import os\n",
        "import cv2\n",
        "import pytesseract\n",
        "import numpy as np\n",
        "import json\n",
        "from PIL import Image\n",
        "from pdf2image import convert_from_path\n",
        "from google.colab import drive"
      ]
    },
    {
      "cell_type": "code",
      "source": [
        "#  Mount Google Drive\n",
        "drive.mount('/content/drive')\n",
        "\n",
        "#  Folder where your PDFs are stored in Drive\n",
        "pdf_folder = \"/content/drive/MyDrive/OCR_PDFs\"   # <-- Change this to your folder path\n",
        "output_folder = \"/content/drive/MyDrive/OCR_Results\"\n",
        "\n",
        "# Make sure output folder exists\n",
        "os.makedirs(output_folder, exist_ok=True)"
      ],
      "metadata": {
        "id": "ENkAG9FJ4EZL"
      },
      "execution_count": null,
      "outputs": []
    },
    {
      "cell_type": "code",
      "source": [
        "#  Preprocessing function\n",
        "def preprocess_image(img_path):\n",
        "    img = cv2.imread(img_path, cv2.IMREAD_GRAYSCALE)\n",
        "    # Binarize using Otsu thresholding\n",
        "    img = cv2.threshold(img, 0, 255, cv2.THRESH_BINARY + cv2.THRESH_OTSU)[1]\n",
        "    # Denoise\n",
        "    img = cv2.fastNlMeansDenoising(img, h=30)\n",
        "    # Deskew\n",
        "    coords = np.column_stack(np.where(img > 0))\n",
        "    angle = cv2.minAreaRect(coords)[-1]\n",
        "    if angle < -45:\n",
        "        angle = -(90 + angle)\n",
        "    else:\n",
        "        angle = -angle\n",
        "    (h, w) = img.shape[:2]\n",
        "    M = cv2.getRotationMatrix2D((w // 2, h // 2), angle, 1.0)\n",
        "    img = cv2.warpAffine(img, M, (w, h), flags=cv2.INTER_CUBIC, borderMode=cv2.BORDER_REPLICATE)\n",
        "    return img"
      ],
      "metadata": {
        "id": "DKpbMB5_4CGU"
      },
      "execution_count": null,
      "outputs": []
    },
    {
      "cell_type": "code",
      "source": [
        "#  Loop through all PDFs in the folder\n",
        "for pdf_file in os.listdir(pdf_folder):\n",
        "    if not pdf_file.lower().endswith(\".pdf\"):\n",
        "        continue\n",
        "\n",
        "    pdf_path = os.path.join(pdf_folder, pdf_file)\n",
        "    pdf_name = os.path.splitext(pdf_file)[0]\n",
        "    print(f\"\\n Processing PDF: {pdf_file}\")\n",
        "\n",
        "    # Convert PDF to images\n",
        "    pages = convert_from_path(pdf_path, dpi=300)\n",
        "\n",
        "    results = {}\n",
        "\n",
        "    for i, page in enumerate(pages):\n",
        "        img_path = f\"/content/page_{i+1}.png\"\n",
        "        page.save(img_path, \"PNG\")\n",
        "\n",
        "        print(f\"    Page {i+1}/{len(pages)}...\")\n",
        "\n",
        "        # Preprocess\n",
        "        proc_img = preprocess_image(img_path)\n",
        "        cv2.imwrite(f\"/content/preproc_{i+1}.png\", proc_img)\n",
        "\n",
        "        # Run Tesseract OCR\n",
        "        tess_text = pytesseract.image_to_string(proc_img)\n",
        "\n",
        "        # Save results\n",
        "        results[f\"Page_{i+1}\"] = {\n",
        "            \"Tesseract\": tess_text.strip()\n",
        "        }\n",
        "\n",
        "    # Save results JSON in Drive\n",
        "    output_path = os.path.join(output_folder, f\"{pdf_name}_ocr_results.json\")\n",
        "    with open(output_path, \"w\", encoding=\"utf-8\") as f:\n",
        "        json.dump(results, f, indent=4, ensure_ascii=False)\n",
        "\n",
        "    print(f\"    Saved: {output_path}\")\n",
        "\n",
        "print(\"\\n All PDFs processed! JSONs saved in:\", output_folder)\n"
      ],
      "metadata": {
        "id": "LNDBe1C438no"
      },
      "execution_count": null,
      "outputs": []
    }
  ]
}